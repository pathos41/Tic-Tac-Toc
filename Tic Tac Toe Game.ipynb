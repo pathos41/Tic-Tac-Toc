{
 "cells": [
  {
   "cell_type": "markdown",
   "metadata": {},
   "source": [
    "1. Print the play board"
   ]
  },
  {
   "cell_type": "code",
   "execution_count": 1,
   "metadata": {},
   "outputs": [],
   "source": [
    "from IPython.display import clear_output\n",
    "\n",
    "def display_board(board):\n",
    "    # Display the board\n",
    "    clear_output()\n",
    "    print(f' {board[7]} | {board[8]} | {board[9]} ')\n",
    "    print('---|---|---')\n",
    "    print(f' {board[4]} | {board[5]} | {board[6]} ')\n",
    "    print('---|---|---')\n",
    "    print(f' {board[1]} | {board[2]} | {board[3]} ')"
   ]
  },
  {
   "cell_type": "markdown",
   "metadata": {},
   "source": [
    "2. Choose which player to go first"
   ]
  },
  {
   "cell_type": "code",
   "execution_count": 2,
   "metadata": {},
   "outputs": [],
   "source": [
    "import random\n",
    "\n",
    "def choose_first():\n",
    "    # Decide which player goes first\n",
    "    num = random.randint(1, 2)\n",
    "    if num == 1:\n",
    "        return 'player 1'\n",
    "    else:\n",
    "        return 'player 2'"
   ]
  },
  {
   "cell_type": "markdown",
   "metadata": {},
   "source": [
    "3. Assign markers 'X' and 'O' to different players, return the markers in a tuple"
   ]
  },
  {
   "cell_type": "code",
   "execution_count": 3,
   "metadata": {},
   "outputs": [],
   "source": [
    "def player_input():\n",
    "    # Ask the user for input\n",
    "    player1 = input(\"Please pick a marker 'X' or 'O': \")\n",
    "    while True:\n",
    "        if player1 == 'X':\n",
    "            player2 = 'O'\n",
    "            break\n",
    "        elif player1 == 'O':\n",
    "            player2 = 'X'\n",
    "            break\n",
    "        else:\n",
    "            print('Wrong marker! Please try again.')\n",
    "            player1 = input(\"Please pick a marker 'X' or 'O': \")\n",
    "            continue\n",
    "    return (player1, player2)"
   ]
  },
  {
   "cell_type": "markdown",
   "metadata": {},
   "source": [
    "4. Request the next position from a player"
   ]
  },
  {
   "cell_type": "code",
   "execution_count": 4,
   "metadata": {},
   "outputs": [],
   "source": [
    "def player_choice(board):\n",
    "    # Asks for a player's next position\n",
    "    position = int(input('Please enter a number: '))\n",
    "    while True:\n",
    "        if position not in range(1, 10):\n",
    "            print('Wrong position please enter again!')\n",
    "            position = int(input('Please enter a number: '))\n",
    "        elif not space_check(board, position):\n",
    "            print(\"The position is occupied, please enter a different number!\")\n",
    "            position = int(input('Please enter a number: '))\n",
    "        else:\n",
    "            break\n",
    "            \n",
    "    return position"
   ]
  },
  {
   "cell_type": "markdown",
   "metadata": {},
   "source": [
    "5. Put the selected marker on the board"
   ]
  },
  {
   "cell_type": "code",
   "execution_count": 5,
   "metadata": {},
   "outputs": [],
   "source": [
    "def place_marker(board, marker, position):\n",
    "    # Place the marker on the board\n",
    "    if position in range(1, 10):\n",
    "        board[position] = marker\n",
    "    else:\n",
    "        print('Wrong position please enter again!')"
   ]
  },
  {
   "cell_type": "markdown",
   "metadata": {},
   "source": [
    "6. Check if anyone has won"
   ]
  },
  {
   "cell_type": "code",
   "execution_count": 6,
   "metadata": {},
   "outputs": [],
   "source": [
    "def win_check(board, mark):\n",
    "    # Checks to see if the mark has won\n",
    "    if board[1] == board[2] == board[3] == mark:\n",
    "        return True\n",
    "    elif board[4] == board[5] == board[6] == mark:\n",
    "        return True\n",
    "    elif board[7] == board[8] == board[9] == mark:\n",
    "        return True\n",
    "    elif board[1] == board[4] == board[7] == mark:\n",
    "        return True\n",
    "    elif board[2] == board[5] == board[8] == mark:\n",
    "        return True\n",
    "    elif board[3] == board[6] == board[9] == mark:\n",
    "        return True\n",
    "    elif board[1] == board[5] == board[9] == mark:\n",
    "        return True\n",
    "    elif board[3] == board[5] == board[7] == mark:\n",
    "        return True\n",
    "    else:\n",
    "        return False"
   ]
  },
  {
   "cell_type": "markdown",
   "metadata": {},
   "source": [
    "7. Check if a position on the board is vacant"
   ]
  },
  {
   "cell_type": "code",
   "execution_count": 7,
   "metadata": {},
   "outputs": [],
   "source": [
    "def space_check(board, position):\n",
    "    # Check whether a space on the board is freely available\n",
    "    return board[position] == ' '"
   ]
  },
  {
   "cell_type": "markdown",
   "metadata": {},
   "source": [
    "8. Check if the board is full"
   ]
  },
  {
   "cell_type": "code",
   "execution_count": 8,
   "metadata": {},
   "outputs": [],
   "source": [
    "def full_board_check(board):\n",
    "    # Check if the board is full\n",
    "    for item in board:\n",
    "        if item == ' ':\n",
    "            return False\n",
    "            break\n",
    "    else:\n",
    "        return True"
   ]
  },
  {
   "cell_type": "markdown",
   "metadata": {},
   "source": [
    "9. Ask the players if they want to play again"
   ]
  },
  {
   "cell_type": "code",
   "execution_count": 9,
   "metadata": {},
   "outputs": [],
   "source": [
    "def replay():\n",
    "    # Asks the player if they want to play again\n",
    "    answer = input('Do you want to play again? Yes/No: ')\n",
    "    while answer != 'Yes' and answer != 'No':\n",
    "        answer = input('Do you want to play again? Yes/No: ')\n",
    "    return answer == 'Yes'"
   ]
  },
  {
   "cell_type": "markdown",
   "metadata": {},
   "source": [
    "10. The Tic Tac Toe Game"
   ]
  },
  {
   "cell_type": "code",
   "execution_count": 10,
   "metadata": {},
   "outputs": [
    {
     "name": "stdout",
     "output_type": "stream",
     "text": [
      " O |   |   \n",
      "---|---|---\n",
      " X | O | X \n",
      "---|---|---\n",
      " O | X | O \n",
      "You won!\n",
      "Do you want to play again? Yes/No: No\n",
      "Thanks for playing!\n"
     ]
    }
   ],
   "source": [
    "print('Welcome to Tic Tac Toe!')\n",
    "# Check if the game is still on:\n",
    "while True:\n",
    "    board = ['#'] + [' '] * 9\n",
    "    display_board(board)\n",
    "    \n",
    "    first_player = choose_first()\n",
    "    if first_player == 'player 1':\n",
    "        print('Player 1 goes first!')\n",
    "    else:\n",
    "        print('Player 2 goes first!')\n",
    "        \n",
    "    marker1, marker2 = player_input()\n",
    "    while True:\n",
    "        #Player 1 Turn\n",
    "        position1 = player_choice(board)\n",
    "        place_marker(board, marker1, position1)\n",
    "        display_board(board)\n",
    "    \n",
    "        # Check if Player1 has won\n",
    "        if win_check(board, marker1):\n",
    "            print('You won!')\n",
    "            break\n",
    "\n",
    "        elif full_board_check(board):\n",
    "            print('The game is a draw!')\n",
    "            break\n",
    "            \n",
    "        # Player2's turn.\n",
    "        position2 = player_choice(board)\n",
    "        place_marker(board, marker2, position2)    \n",
    "        display_board(board)\n",
    "        # Check if Player2 has won\n",
    "        if win_check(board, marker2):\n",
    "            print('You won!')\n",
    "            break\n",
    "            \n",
    "        elif full_board_check(board):\n",
    "            print('The game is a draw!')\n",
    "            break\n",
    "            \n",
    "    if not replay():\n",
    "        print('Thanks for playing!')\n",
    "        break"
   ]
  },
  {
   "cell_type": "code",
   "execution_count": null,
   "metadata": {},
   "outputs": [],
   "source": []
  }
 ],
 "metadata": {
  "kernelspec": {
   "display_name": "Python 3",
   "language": "python",
   "name": "python3"
  },
  "language_info": {
   "codemirror_mode": {
    "name": "ipython",
    "version": 3
   },
   "file_extension": ".py",
   "mimetype": "text/x-python",
   "name": "python",
   "nbconvert_exporter": "python",
   "pygments_lexer": "ipython3",
   "version": "3.7.3"
  }
 },
 "nbformat": 4,
 "nbformat_minor": 2
}
